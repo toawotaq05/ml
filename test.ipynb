{
 "metadata": {
  "language_info": {
   "codemirror_mode": {
    "name": "ipython",
    "version": 3
   },
   "file_extension": ".py",
   "mimetype": "text/x-python",
   "name": "python",
   "nbconvert_exporter": "python",
   "pygments_lexer": "ipython3",
   "version": "3.7.4"
  },
  "orig_nbformat": 2,
  "kernelspec": {
   "name": "python374jvsc74a57bd0a613a7c9c1ef6b3971fc5d9fbbd95947c9c9ddbc441ee55dae041b50a1547180",
   "display_name": "Python 3.7.4 64-bit ('base': conda)"
  }
 },
 "nbformat": 4,
 "nbformat_minor": 2,
 "cells": [
  {
   "cell_type": "code",
   "execution_count": 17,
   "metadata": {},
   "outputs": [],
   "source": [
    "url = \"https://raw.githubusercontent.com/Apress/mastering-ml-w-python-in-six-steps/master/Chapter_3_Code/Code/Data/Grade_Set_1.csv\""
   ]
  },
  {
   "cell_type": "code",
   "execution_count": 18,
   "metadata": {},
   "outputs": [],
   "source": [
    "import pandas as pd"
   ]
  },
  {
   "cell_type": "code",
   "execution_count": 21,
   "metadata": {},
   "outputs": [],
   "source": [
    "df = pd.read_csv(url)"
   ]
  },
  {
   "cell_type": "code",
   "execution_count": 22,
   "metadata": {},
   "outputs": [
    {
     "output_type": "execute_result",
     "data": {
      "text/plain": [
       "   Hours_Studied  Test_Grade\n",
       "0              2          57\n",
       "1              3          66\n",
       "2              4          73\n",
       "3              5          76\n",
       "4              6          79\n",
       "5              7          81\n",
       "6              8          90\n",
       "7              9          96\n",
       "8             10         100"
      ],
      "text/html": "<div>\n<style scoped>\n    .dataframe tbody tr th:only-of-type {\n        vertical-align: middle;\n    }\n\n    .dataframe tbody tr th {\n        vertical-align: top;\n    }\n\n    .dataframe thead th {\n        text-align: right;\n    }\n</style>\n<table border=\"1\" class=\"dataframe\">\n  <thead>\n    <tr style=\"text-align: right;\">\n      <th></th>\n      <th>Hours_Studied</th>\n      <th>Test_Grade</th>\n    </tr>\n  </thead>\n  <tbody>\n    <tr>\n      <td>0</td>\n      <td>2</td>\n      <td>57</td>\n    </tr>\n    <tr>\n      <td>1</td>\n      <td>3</td>\n      <td>66</td>\n    </tr>\n    <tr>\n      <td>2</td>\n      <td>4</td>\n      <td>73</td>\n    </tr>\n    <tr>\n      <td>3</td>\n      <td>5</td>\n      <td>76</td>\n    </tr>\n    <tr>\n      <td>4</td>\n      <td>6</td>\n      <td>79</td>\n    </tr>\n    <tr>\n      <td>5</td>\n      <td>7</td>\n      <td>81</td>\n    </tr>\n    <tr>\n      <td>6</td>\n      <td>8</td>\n      <td>90</td>\n    </tr>\n    <tr>\n      <td>7</td>\n      <td>9</td>\n      <td>96</td>\n    </tr>\n    <tr>\n      <td>8</td>\n      <td>10</td>\n      <td>100</td>\n    </tr>\n  </tbody>\n</table>\n</div>"
     },
     "metadata": {},
     "execution_count": 22
    }
   ],
   "source": [
    "df"
   ]
  },
  {
   "cell_type": "code",
   "execution_count": null,
   "metadata": {},
   "outputs": [],
   "source": []
  }
 ]
}